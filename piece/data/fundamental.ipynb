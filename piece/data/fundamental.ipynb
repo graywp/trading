{
 "cells": [
  {
   "cell_type": "code",
   "execution_count": 1,
   "id": "b033e881",
   "metadata": {},
   "outputs": [],
   "source": [
    "from jqdatasdk import *\n",
    "import os\n",
    "JQ_PHONE = os.getenv('JQ_PHONE')\n",
    "JQ_PWD = os.getenv('JQ_PWD')"
   ]
  },
  {
   "cell_type": "code",
   "execution_count": 2,
   "id": "ffde2afb",
   "metadata": {},
   "outputs": [
    {
     "name": "stdout",
     "output_type": "stream",
     "text": [
      "auth success \n"
     ]
    }
   ],
   "source": [
    "auth(JQ_PHONE, JQ_PWD)"
   ]
  },
  {
   "cell_type": "code",
   "execution_count": 5,
   "id": "3aeea63e",
   "metadata": {},
   "outputs": [],
   "source": [
    "df = get_fundamentals(query(indicator), statDate='2022')"
   ]
  },
  {
   "cell_type": "code",
   "execution_count": 7,
   "id": "eab57011",
   "metadata": {},
   "outputs": [],
   "source": [
    "df.to_csv('./output/finance2022.csv')"
   ]
  },
  {
   "cell_type": "code",
   "execution_count": 9,
   "id": "1d436463",
   "metadata": {},
   "outputs": [],
   "source": [
    "# 基于盈利指标选股 eps operating_profit, roe, inc_net_profit_year_on_year\n",
    "df_filter = df[(df['eps'] > 0) & (df['operating_profit'] > 0) & (df['roe'] > 11) & (df['inc_net_profit_year_on_year'] > 10)]"
   ]
  },
  {
   "cell_type": "code",
   "execution_count": 10,
   "id": "4d3e18a5",
   "metadata": {},
   "outputs": [
    {
     "data": {
      "text/html": [
       "<div>\n",
       "<style scoped>\n",
       "    .dataframe tbody tr th:only-of-type {\n",
       "        vertical-align: middle;\n",
       "    }\n",
       "\n",
       "    .dataframe tbody tr th {\n",
       "        vertical-align: top;\n",
       "    }\n",
       "\n",
       "    .dataframe thead th {\n",
       "        text-align: right;\n",
       "    }\n",
       "</style>\n",
       "<table border=\"1\" class=\"dataframe\">\n",
       "  <thead>\n",
       "    <tr style=\"text-align: right;\">\n",
       "      <th></th>\n",
       "      <th>id</th>\n",
       "      <th>code</th>\n",
       "      <th>statDate</th>\n",
       "      <th>pubDate</th>\n",
       "      <th>statDate.1</th>\n",
       "      <th>eps</th>\n",
       "      <th>adjusted_profit</th>\n",
       "      <th>operating_profit</th>\n",
       "      <th>value_change_profit</th>\n",
       "      <th>roe</th>\n",
       "      <th>...</th>\n",
       "      <th>inc_total_revenue_year_on_year</th>\n",
       "      <th>inc_total_revenue_annual</th>\n",
       "      <th>inc_revenue_year_on_year</th>\n",
       "      <th>inc_revenue_annual</th>\n",
       "      <th>inc_operation_profit_year_on_year</th>\n",
       "      <th>inc_operation_profit_annual</th>\n",
       "      <th>inc_net_profit_year_on_year</th>\n",
       "      <th>inc_net_profit_annual</th>\n",
       "      <th>inc_net_profit_to_shareholders_year_on_year</th>\n",
       "      <th>inc_net_profit_to_shareholders_annual</th>\n",
       "    </tr>\n",
       "  </thead>\n",
       "  <tbody>\n",
       "    <tr>\n",
       "      <th>0</th>\n",
       "      <td>181745</td>\n",
       "      <td>301059.XSHE</td>\n",
       "      <td>2022-12-31</td>\n",
       "      <td>2023-02-09</td>\n",
       "      <td>2022-12-31</td>\n",
       "      <td>0.54</td>\n",
       "      <td>60929688.49</td>\n",
       "      <td>71009440.61</td>\n",
       "      <td>40014.83</td>\n",
       "      <td>11.9336</td>\n",
       "      <td>...</td>\n",
       "      <td>37.7019</td>\n",
       "      <td>NaN</td>\n",
       "      <td>37.7019</td>\n",
       "      <td>NaN</td>\n",
       "      <td>27.2754</td>\n",
       "      <td>NaN</td>\n",
       "      <td>30.5074</td>\n",
       "      <td>NaN</td>\n",
       "      <td>30.5074</td>\n",
       "      <td>NaN</td>\n",
       "    </tr>\n",
       "  </tbody>\n",
       "</table>\n",
       "<p>1 rows × 36 columns</p>\n",
       "</div>"
      ],
      "text/plain": [
       "       id         code    statDate     pubDate  statDate.1   eps  \\\n",
       "0  181745  301059.XSHE  2022-12-31  2023-02-09  2022-12-31  0.54   \n",
       "\n",
       "   adjusted_profit  operating_profit  value_change_profit      roe  ...  \\\n",
       "0      60929688.49       71009440.61             40014.83  11.9336  ...   \n",
       "\n",
       "   inc_total_revenue_year_on_year  inc_total_revenue_annual  \\\n",
       "0                         37.7019                       NaN   \n",
       "\n",
       "   inc_revenue_year_on_year  inc_revenue_annual  \\\n",
       "0                   37.7019                 NaN   \n",
       "\n",
       "   inc_operation_profit_year_on_year  inc_operation_profit_annual  \\\n",
       "0                            27.2754                          NaN   \n",
       "\n",
       "   inc_net_profit_year_on_year  inc_net_profit_annual  \\\n",
       "0                      30.5074                    NaN   \n",
       "\n",
       "   inc_net_profit_to_shareholders_year_on_year  \\\n",
       "0                                      30.5074   \n",
       "\n",
       "   inc_net_profit_to_shareholders_annual  \n",
       "0                                    NaN  \n",
       "\n",
       "[1 rows x 36 columns]"
      ]
     },
     "execution_count": 10,
     "metadata": {},
     "output_type": "execute_result"
    }
   ],
   "source": [
    "df_filter"
   ]
  },
  {
   "cell_type": "code",
   "execution_count": null,
   "id": "b4d9bd7f",
   "metadata": {},
   "outputs": [],
   "source": []
  }
 ],
 "metadata": {
  "kernelspec": {
   "display_name": "Python 3",
   "language": "python",
   "name": "python3"
  },
  "language_info": {
   "codemirror_mode": {
    "name": "ipython",
    "version": 3
   },
   "file_extension": ".py",
   "mimetype": "text/x-python",
   "name": "python",
   "nbconvert_exporter": "python",
   "pygments_lexer": "ipython3",
   "version": "3.8.8"
  }
 },
 "nbformat": 4,
 "nbformat_minor": 5
}
